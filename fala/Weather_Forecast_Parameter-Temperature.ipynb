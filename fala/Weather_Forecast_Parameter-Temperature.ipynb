{
  "cells": [
    {
      "cell_type": "code",
      "execution_count": null,
      "metadata": {
        "id": "bLme9agPl6tR"
      },
      "outputs": [],
      "source": [
        "import pandas as pd\n",
        "import numpy as np \n",
        "import matplotlib.pyplot as plt \n",
        "%matplotlib inline \n",
        "import time \n",
        "import datetime "
      ]
    },
    {
      "cell_type": "code",
      "execution_count": null,
      "metadata": {
        "colab": {
          "base_uri": "https://localhost:8080/",
          "height": 224
        },
        "id": "bhqEKs3Pm9Yv",
        "outputId": "19605cde-0924-4131-e66b-9a676537e598"
      },
      "outputs": [],
      "source": [
        "# Loading dataset\n",
        "orig_df = pd.read_csv('/mnt/share/datasets/fala/content/delhi_weather_final.csv')\n",
        "df = orig_df.copy()\n",
        "df.columns = ['Date' , 'Temperature', 'Pressure' , 'Humidity']\n",
        "print(df.shape)\n",
        "df.head(5)"
      ]
    },
    {
      "cell_type": "code",
      "execution_count": null,
      "metadata": {
        "colab": {
          "base_uri": "https://localhost:8080/",
          "height": 300
        },
        "id": "Z4rxhJSTp2eV",
        "outputId": "f427c834-423a-4b41-c13a-be1b2e455d08"
      },
      "outputs": [],
      "source": [
        "df.describe()"
      ]
    },
    {
      "cell_type": "code",
      "execution_count": null,
      "metadata": {
        "colab": {
          "base_uri": "https://localhost:8080/"
        },
        "id": "v9rYGf1NqNI7",
        "outputId": "5f6f2be3-b62a-4ba6-8818-120d4c34df6e"
      },
      "outputs": [],
      "source": [
        "df = df[(df['Humidity'] >= 39) & (df['Humidity'] <= 78)]\n",
        "df = df[(df['Pressure'] >= 1002.0) & (df['Pressure'] <= 1014.0)]\n",
        "df = df[(df['Temperature'] >= 19.0) & (df['Temperature'] <= 32.0)]\n",
        "\n",
        "max_temp = np.max(df['Temperature'])\n",
        "max_pres = np.max(df['Pressure'])\n",
        "max_humid = np.max(df['Humidity'])\n",
        "\n",
        "min_temp = np.min(df['Temperature'])\n",
        "min_pres = np.min(df['Pressure'])\n",
        "min_humid = np.min(df['Humidity'])\n",
        "\n",
        "print(f'Max Temp : {max_temp}')\n",
        "print(f'Max Pressure : {max_pres}')\n",
        "print(f'Max Humidity : {max_humid}')\n",
        "\n",
        "print(f'Min Temp : {min_temp}')\n",
        "print(f'Min Pressure : {min_pres}')\n",
        "print(f'Min Humidity : {min_humid}')"
      ]
    },
    {
      "cell_type": "code",
      "execution_count": null,
      "metadata": {
        "colab": {
          "base_uri": "https://localhost:8080/"
        },
        "id": "JyMA6uQDoQDJ",
        "outputId": "cac6f5c9-0d14-42ea-cb21-36828157e65f"
      },
      "outputs": [],
      "source": [
        "df.isnull().sum()"
      ]
    },
    {
      "cell_type": "code",
      "execution_count": null,
      "metadata": {
        "colab": {
          "base_uri": "https://localhost:8080/"
        },
        "id": "V_wtmL0sr37e",
        "outputId": "d053381e-34f5-483b-8204-959be28168c0"
      },
      "outputs": [],
      "source": [
        "df.shape"
      ]
    },
    {
      "cell_type": "code",
      "execution_count": null,
      "metadata": {
        "colab": {
          "base_uri": "https://localhost:8080/",
          "height": 206
        },
        "id": "UjnlkmCRex7S",
        "outputId": "78e4bcdc-5844-4738-8f94-70db19720118"
      },
      "outputs": [],
      "source": [
        "df.head()"
      ]
    },
    {
      "cell_type": "code",
      "execution_count": null,
      "metadata": {
        "colab": {
          "base_uri": "https://localhost:8080/"
        },
        "id": "KAu5I2qyfG4l",
        "outputId": "9f61135c-e28f-4c3f-c672-0555b37beb69"
      },
      "outputs": [],
      "source": [
        "temp_df = df[df['Date'].str.contains('14:') == True]\n",
        "temp_df.shape"
      ]
    },
    {
      "cell_type": "code",
      "execution_count": null,
      "metadata": {
        "colab": {
          "base_uri": "https://localhost:8080/",
          "height": 206
        },
        "id": "Bps__i1zfRMy",
        "outputId": "730a7ea6-5ec8-4537-f8a0-9713b4185b10"
      },
      "outputs": [],
      "source": [
        "temp_df.head()"
      ]
    },
    {
      "cell_type": "code",
      "execution_count": null,
      "metadata": {
        "colab": {
          "base_uri": "https://localhost:8080/",
          "height": 337
        },
        "id": "A1eA9qZyIwl6",
        "outputId": "b7cbb8d2-050d-48bc-d7fb-5fd991e73cd5"
      },
      "outputs": [],
      "source": [
        "plt.figure(figsize = (16,5))\n",
        "plt.plot(temp_df['Temperature'])"
      ]
    },
    {
      "cell_type": "code",
      "execution_count": null,
      "metadata": {
        "colab": {
          "base_uri": "https://localhost:8080/",
          "height": 553
        },
        "id": "yRpPinu8fkIU",
        "outputId": "93f16b75-f6a0-4dff-ea77-22f0bc905346"
      },
      "outputs": [],
      "source": [
        "x = temp_df['Date'].values\n",
        "y1 = temp_df['Temperature'].values\n",
        "\n",
        "# Plot\n",
        "fig, ax = plt.subplots(1, 1, figsize=(16,5), dpi= 120)\n",
        "plt.fill_between(x, y1=y1, y2=-y1, alpha=0.5, linewidth=2, color='seagreen')\n",
        "plt.ylim(-32, 32)\n",
        "plt.title('Temperature variation at 2 pm', fontsize=16)\n",
        "plt.hlines(y=0, xmin=np.min(temp_df.Date), xmax=np.max(temp_df.Date), linewidth=.5)\n",
        "plt.show()"
      ]
    },
    {
      "cell_type": "code",
      "execution_count": null,
      "metadata": {
        "colab": {
          "base_uri": "https://localhost:8080/",
          "height": 206
        },
        "id": "aAIqQmy1kH82",
        "outputId": "305d1126-d7ae-4af5-8cae-9ee9a5b3b626"
      },
      "outputs": [],
      "source": [
        "temp_df.tail()"
      ]
    },
    {
      "cell_type": "code",
      "execution_count": null,
      "metadata": {
        "colab": {
          "base_uri": "https://localhost:8080/",
          "height": 238
        },
        "id": "tga3mgXhkP4l",
        "outputId": "a0eb3209-2d07-4b34-843f-bb406ee7649e"
      },
      "outputs": [],
      "source": [
        "idx = pd.date_range('1996-11-01 14:00:00', periods=626 , freq='1h')\n",
        "\n",
        "temp_df = temp_df.set_index(idx)\n",
        "temp_df.index.name = 'Timestamp' \n",
        "temp_df.head()"
      ]
    },
    {
      "cell_type": "code",
      "execution_count": null,
      "metadata": {
        "id": "GgV0O7a9iK-I"
      },
      "outputs": [],
      "source": [
        "temp_df['Temperature'] = temp_df['Temperature'] / 50 "
      ]
    },
    {
      "cell_type": "markdown",
      "metadata": {
        "id": "Dv3Ksqwfngdu"
      },
      "source": [
        "### Decomposing Time series into its components "
      ]
    },
    {
      "cell_type": "code",
      "execution_count": null,
      "metadata": {
        "colab": {
          "base_uri": "https://localhost:8080/"
        },
        "id": "Y-2fyXhbgdLf",
        "outputId": "6631ade4-4399-4203-fb19-9e5a017ae055"
      },
      "outputs": [],
      "source": [
        "from statsmodels.tsa.seasonal import seasonal_decompose\n",
        "from dateutil.parser import parse\n",
        "\n",
        "result_mul = seasonal_decompose(temp_df['Temperature'], model='multiplicative')\n",
        "\n",
        "# Additive Decomposition\n",
        "result_add = seasonal_decompose(temp_df['Temperature'], model='additive')\n"
      ]
    },
    {
      "cell_type": "markdown",
      "metadata": {
        "id": "Ju8rFo90nqpd"
      },
      "source": [
        "#### Mulplicative Decompose "
      ]
    },
    {
      "cell_type": "code",
      "execution_count": null,
      "metadata": {
        "colab": {
          "base_uri": "https://localhost:8080/",
          "height": 749
        },
        "id": "vhj14XAZhNFi",
        "outputId": "1d95b86b-152b-42ee-af2d-41a24dbc4160"
      },
      "outputs": [],
      "source": [
        "plt.rcParams.update({'figure.figsize': (10,10)})\n",
        "result_mul.plot().suptitle('Multiplicative Decompose', fontsize=22)"
      ]
    },
    {
      "cell_type": "markdown",
      "metadata": {
        "id": "Od-yNvkznu2M"
      },
      "source": [
        "#### Additive Decompose "
      ]
    },
    {
      "cell_type": "code",
      "execution_count": null,
      "metadata": {
        "colab": {
          "base_uri": "https://localhost:8080/",
          "height": 749
        },
        "id": "gqHTojDSktl1",
        "outputId": "d58eadea-8b7b-4e3f-ad84-ee22004b1f39"
      },
      "outputs": [],
      "source": [
        "plt.rcParams.update({'figure.figsize': (10,10)})\n",
        "result_add.plot().suptitle('Additive Decompose', fontsize=22)"
      ]
    },
    {
      "cell_type": "markdown",
      "metadata": {
        "id": "E-AXEaIGpA4f"
      },
      "source": [
        "### Detrend "
      ]
    },
    {
      "cell_type": "code",
      "execution_count": null,
      "metadata": {
        "colab": {
          "base_uri": "https://localhost:8080/",
          "height": 353
        },
        "id": "0wEn5PiPoQb0",
        "outputId": "98faa826-9a74-4814-a766-5399ef7c7e0c"
      },
      "outputs": [],
      "source": [
        "plt.rcParams.update({'figure.figsize': (9,5)})\n",
        "from scipy import signal\n",
        "detrended = signal.detrend(temp_df['Temperature'])\n",
        "plt.title('Temperature Detrend')\n",
        "plt.plot(detrended)"
      ]
    },
    {
      "cell_type": "markdown",
      "metadata": {
        "id": "0bVi-8QAn69d"
      },
      "source": [
        "# Working For ARIMA "
      ]
    },
    {
      "cell_type": "markdown",
      "metadata": {
        "id": "v461jJh0poEk"
      },
      "source": [
        "### Finding the differencing value "
      ]
    },
    {
      "cell_type": "code",
      "execution_count": null,
      "metadata": {
        "colab": {
          "base_uri": "https://localhost:8080/"
        },
        "id": "YXCH7JqzIlqi",
        "outputId": "66b5297f-e963-41b2-8f91-66dfc95b2d4a"
      },
      "outputs": [],
      "source": [
        "from statsmodels.tsa.stattools import adfuller\n",
        "from numpy import log\n",
        "result = adfuller(temp_df['Temperature'].dropna())\n",
        "print('ADF Statistic: %f' % result[0])\n",
        "print('p-value: %f' % result[1])"
      ]
    },
    {
      "cell_type": "markdown",
      "metadata": {
        "id": "tBNF2r5PprBk"
      },
      "source": [
        "Since the p value is << 0.05 there for series is stationary and we don't actually need to perform differencing "
      ]
    },
    {
      "cell_type": "markdown",
      "metadata": {
        "id": "gkQp7QxhqeWe"
      },
      "source": [
        "### Verifying differencing with graph "
      ]
    },
    {
      "cell_type": "markdown",
      "metadata": {
        "id": "xXNsxMzjql8y"
      },
      "source": [
        "#### no differencing (d = 0)"
      ]
    },
    {
      "cell_type": "code",
      "execution_count": null,
      "metadata": {
        "colab": {
          "base_uri": "https://localhost:8080/",
          "height": 713
        },
        "id": "pyZ19l8_maJl",
        "outputId": "7a1949f9-a347-4421-d40f-849714192856"
      },
      "outputs": [],
      "source": [
        "from statsmodels.graphics.tsaplots import plot_acf, plot_pacf\n",
        "plt.rcParams.update({'figure.figsize':(9,7), 'figure.dpi':120})\n",
        "\n",
        "# Original Series\n",
        "plt.rcParams.update({'figure.figsize':(6,3), 'figure.dpi':120})\n",
        "plt.plot(temp_df['Temperature'])\n",
        "plot_acf(temp_df['Temperature'])\n",
        "plt.plot"
      ]
    },
    {
      "cell_type": "markdown",
      "metadata": {
        "id": "prplkZ6Cqt7C"
      },
      "source": [
        "#### first order differencing (d = 1)"
      ]
    },
    {
      "cell_type": "code",
      "execution_count": null,
      "metadata": {
        "colab": {
          "base_uri": "https://localhost:8080/",
          "height": 709
        },
        "id": "WVwPKsNqLcKk",
        "outputId": "cbe96472-3679-449d-950e-6186e1bde7f4"
      },
      "outputs": [],
      "source": [
        "plt.rcParams.update({'figure.figsize':(6,3), 'figure.dpi':120})\n",
        "plt.plot(temp_df['Temperature'].diff()); \n",
        "plot_acf(temp_df['Temperature'].diff().dropna())\n",
        "plt.plot()"
      ]
    },
    {
      "cell_type": "markdown",
      "metadata": {
        "id": "qc7VAZV0rLYO"
      },
      "source": [
        "#### second order differencing (d = 2)"
      ]
    },
    {
      "cell_type": "code",
      "execution_count": null,
      "metadata": {
        "colab": {
          "base_uri": "https://localhost:8080/",
          "height": 709
        },
        "id": "2Q_EK3xSZ6K4",
        "outputId": "5b6e743f-3204-4f60-c200-a9325705f323"
      },
      "outputs": [],
      "source": [
        "plt.rcParams.update({'figure.figsize':(6,3), 'figure.dpi':120})\n",
        "plt.plot(temp_df['Temperature'].diff().diff()); \n",
        "plot_acf(temp_df['Temperature'].diff().diff().dropna())\n",
        "\n",
        "plt.plot()"
      ]
    },
    {
      "cell_type": "markdown",
      "metadata": {
        "id": "rhgRS_ckqzgy"
      },
      "source": [
        "As we can see, autorelation value quickly becomes negative in the second graph, therefore we fix the value of d  as 0 "
      ]
    },
    {
      "cell_type": "markdown",
      "metadata": {
        "id": "WeDUKNn4rVyQ"
      },
      "source": [
        "### Finding the order of AR term (p)"
      ]
    },
    {
      "cell_type": "markdown",
      "metadata": {
        "id": "JFX-ERzHrgzt"
      },
      "source": [
        "#### no differencing "
      ]
    },
    {
      "cell_type": "code",
      "execution_count": null,
      "metadata": {
        "colab": {
          "base_uri": "https://localhost:8080/",
          "height": 713
        },
        "id": "5LOYWRLvibSy",
        "outputId": "ea171b99-79dd-4bf8-b586-ffa51f5e4e35"
      },
      "outputs": [],
      "source": [
        "\n",
        "plt.rcParams.update({'figure.figsize':(6,3), 'figure.dpi':120})\n",
        "plt.plot(temp_df.Temperature)\n",
        "plot_pacf(temp_df.Temperature.dropna())\n",
        "plt.plot()"
      ]
    },
    {
      "cell_type": "markdown",
      "metadata": {
        "id": "FAMHRpZtrncu"
      },
      "source": [
        "As we can see the first two lines of PACF are significant therefore we keep as 2"
      ]
    },
    {
      "cell_type": "markdown",
      "metadata": {
        "id": "kJ5ZIhJDrwFt"
      },
      "source": [
        "#### first order differencing "
      ]
    },
    {
      "cell_type": "code",
      "execution_count": null,
      "metadata": {
        "colab": {
          "base_uri": "https://localhost:8080/",
          "height": 709
        },
        "id": "5EwZXsspe094",
        "outputId": "f8172af3-8317-4fe7-87af-d500e06e909e"
      },
      "outputs": [],
      "source": [
        "# PACF plot of 1st differenced series\n",
        "plt.rcParams.update({'figure.figsize':(6,3), 'figure.dpi':120})\n",
        "\n",
        "plt.plot(temp_df.Temperature.diff())\n",
        "plot_pacf(temp_df.Temperature.diff().dropna())\n",
        "plt.plot()"
      ]
    },
    {
      "cell_type": "markdown",
      "metadata": {
        "id": "saKtpYCSr1yG"
      },
      "source": [
        "### Finding order of MA term "
      ]
    },
    {
      "cell_type": "markdown",
      "metadata": {
        "id": "eyCzDkfTsW80"
      },
      "source": [
        "#### no differencing "
      ]
    },
    {
      "cell_type": "code",
      "execution_count": null,
      "metadata": {
        "colab": {
          "base_uri": "https://localhost:8080/",
          "height": 696
        },
        "id": "sAQNF3FcikZ7",
        "outputId": "dd335de9-8ef8-47aa-e912-e1f38d4bf444"
      },
      "outputs": [],
      "source": [
        "from statsmodels.graphics.tsaplots import plot_acf, plot_pacf\n",
        "plt.rcParams.update({'figure.figsize':(6,3), 'figure.dpi':120})\n",
        "\n",
        "plt.plot(temp_df.Temperature)\n",
        "plot_acf(temp_df.Temperature.dropna())\n",
        "\n",
        "plt.show()"
      ]
    },
    {
      "cell_type": "markdown",
      "metadata": {
        "id": "ydWFd-p-sm2M"
      },
      "source": [
        "#### first order differncing "
      ]
    },
    {
      "cell_type": "code",
      "execution_count": null,
      "metadata": {
        "colab": {
          "base_uri": "https://localhost:8080/",
          "height": 692
        },
        "id": "c-t-gE5ifYBR",
        "outputId": "55ede5e3-f8b0-4d8b-fde5-1c45ce545e31"
      },
      "outputs": [],
      "source": [
        "from statsmodels.graphics.tsaplots import plot_acf, plot_pacf\n",
        "plt.rcParams.update({'figure.figsize':(6,3), 'figure.dpi':120})\n",
        "\n",
        "plt.plot(temp_df.Temperature.diff())\n",
        "plot_acf(temp_df.Temperature.diff().dropna())\n",
        "\n",
        "plt.show()"
      ]
    },
    {
      "cell_type": "markdown",
      "metadata": {
        "id": "UfYg0WUwsvDE"
      },
      "source": [
        " we fix the value of q as 2"
      ]
    },
    {
      "cell_type": "code",
      "execution_count": null,
      "metadata": {
        "colab": {
          "base_uri": "https://localhost:8080/"
        },
        "id": "jKofIS49gnNi",
        "outputId": "8b3d713d-e47a-49ca-cda9-f4884b2f495b"
      },
      "outputs": [],
      "source": [
        "from statsmodels.tsa.arima_model import ARIMA\n",
        "\n",
        "# ARIMA Model  (p,d,q)\n",
        "model = ARIMA(temp_df.Temperature, order=(2,0,2))\n",
        "model_fit = model.fit(disp=0)\n",
        "print(model_fit.summary())"
      ]
    },
    {
      "cell_type": "code",
      "execution_count": null,
      "metadata": {
        "colab": {
          "base_uri": "https://localhost:8080/",
          "height": 431
        },
        "id": "lL-Znz7DtUPN",
        "outputId": "15035450-60ad-4309-bb79-92d5f0c36e46"
      },
      "outputs": [],
      "source": [
        "# Plot residual errors\n",
        "residuals = pd.DataFrame(model_fit.resid)\n",
        "fig, ax = plt.subplots(1,2)\n",
        "residuals.plot(title=\"Residuals\", ax=ax[0])\n",
        "residuals.plot(kind='kde', title='Density', ax=ax[1])\n",
        "plt.show()"
      ]
    },
    {
      "cell_type": "code",
      "execution_count": null,
      "metadata": {
        "colab": {
          "base_uri": "https://localhost:8080/",
          "height": 410
        },
        "id": "XZk9TIhktZZc",
        "outputId": "5f493f40-06b6-41fe-b23a-1859529595e7"
      },
      "outputs": [],
      "source": [
        "# Actual vs Fitted\n",
        "plt.rcParams.update({'figure.figsize':(12,3), 'figure.dpi':120})\n",
        "model_fit.plot_predict(dynamic=False)\n",
        "plt.show()"
      ]
    },
    {
      "cell_type": "code",
      "execution_count": null,
      "metadata": {
        "id": "zepPbH_7lLNO"
      },
      "outputs": [],
      "source": []
    }
  ],
  "metadata": {
    "colab": {
      "provenance": []
    },
    "kernelspec": {
      "display_name": "Python 3",
      "name": "python3"
    },
    "language_info": {
      "name": "python"
    }
  },
  "nbformat": 4,
  "nbformat_minor": 0
}
