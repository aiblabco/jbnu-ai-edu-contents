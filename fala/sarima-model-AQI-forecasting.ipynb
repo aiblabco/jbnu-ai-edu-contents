{
 "cells": [
  {
   "cell_type": "code",
   "execution_count": null,
   "metadata": {
    "_cell_guid": "79c7e3d0-c299-4dcb-8224-4455121ee9b0",
    "_uuid": "d629ff2d2480ee46fbb7e2d37f6b5fab8052498a"
   },
   "outputs": [],
   "source": [
    "#Importing the required libraries\n",
    "\n",
    "import os\n",
    "import pandas as pd\n",
    "import numpy as np\n",
    "import matplotlib.pyplot as plt\n",
    "import seaborn as sns\n",
    "from datetime import datetime\n",
    "# Ignore harmless warnings\n",
    "import warnings\n",
    "warnings.filterwarnings(\"ignore\")\n",
    "from IPython.display import HTML,display\n",
    "\n",
    "warnings.filterwarnings(\"ignore\")"
   ]
  },
  {
   "cell_type": "code",
   "execution_count": null,
   "metadata": {},
   "outputs": [],
   "source": [
    "#Read the daily city-wise data\n",
    "df= pd.read_csv(\"/mnt/share/datasets/fala/air-quality-dataset/city_day.csv\",parse_dates=True)\n",
    "df['Date'] = pd.to_datetime(df['Date'])"
   ]
  },
  {
   "cell_type": "code",
   "execution_count": null,
   "metadata": {},
   "outputs": [],
   "source": [
    "#Keeping only the columns needed\n",
    "df=df[['City','Date','AQI']]"
   ]
  },
  {
   "cell_type": "code",
   "execution_count": null,
   "metadata": {},
   "outputs": [],
   "source": [
    "#Filtering the dataframe to keep the data for the city of Delhi only\n",
    "delhi = df[df['City'] == 'Delhi']\n",
    "delhi.drop(['City'],axis=1,inplace = True)\n",
    "delhi.set_index('Date', inplace = True)\n"
   ]
  },
  {
   "cell_type": "code",
   "execution_count": null,
   "metadata": {},
   "outputs": [],
   "source": [
    "delhi"
   ]
  },
  {
   "cell_type": "code",
   "execution_count": null,
   "metadata": {},
   "outputs": [],
   "source": [
    "#Fill NULL DATA\n",
    "delhi['AQI'].fillna(method = 'bfill',inplace = True)"
   ]
  },
  {
   "cell_type": "code",
   "execution_count": null,
   "metadata": {},
   "outputs": [],
   "source": [
    "#Taking monthly average\n",
    "delhi=delhi.astype('float64')\n",
    "delhi=delhi.resample(rule='MS').mean()"
   ]
  },
  {
   "cell_type": "code",
   "execution_count": null,
   "metadata": {},
   "outputs": [],
   "source": [
    "ax=delhi[['AQI']].plot(figsize=(12,8),grid=True,lw=2,color='Red')\n",
    "ax.autoscale(enable=True, axis='both', tight=True)"
   ]
  },
  {
   "cell_type": "markdown",
   "metadata": {},
   "source": [
    "# FORECASTING\n"
   ]
  },
  {
   "cell_type": "code",
   "execution_count": null,
   "metadata": {},
   "outputs": [],
   "source": [
    "from statsmodels.tsa.seasonal import seasonal_decompose\n",
    "from sklearn.metrics import mean_squared_error"
   ]
  },
  {
   "cell_type": "code",
   "execution_count": null,
   "metadata": {},
   "outputs": [],
   "source": [
    "delhi_AQI=delhi['AQI']\n",
    "result=seasonal_decompose(delhi_AQI,model='multiplicative')\n",
    "result.plot();"
   ]
  },
  {
   "cell_type": "markdown",
   "metadata": {},
   "source": [
    "# **SARIMAX MODEL**"
   ]
  },
  {
   "cell_type": "code",
   "execution_count": null,
   "metadata": {},
   "outputs": [],
   "source": [
    "#Importing the SARIMAX Model\n",
    "from statsmodels.tsa.statespace.sarimax import SARIMAX"
   ]
  },
  {
   "attachments": {},
   "cell_type": "markdown",
   "metadata": {},
   "source": [
    "SARIMAX stands for Seasonal AutoRegressive Integrated Moving Average with eXogenous regressors. It is a time series forecasting model that is an extension of the ARIMA model, where the \"S\" indicates the inclusion of seasonal components, and the \"X\" indicates the inclusion of exogenous variables. SARIMAX models are commonly used to forecast time series data that exhibit seasonal patterns and may be influenced by external factors or predictors."
   ]
  },
  {
   "cell_type": "code",
   "execution_count": null,
   "metadata": {},
   "outputs": [],
   "source": [
    "len(delhi_AQI)"
   ]
  },
  {
   "cell_type": "code",
   "execution_count": null,
   "metadata": {},
   "outputs": [],
   "source": [
    "#Splitting the training and testing dataset\n",
    "train=delhi_AQI[:48]\n",
    "test=delhi_AQI[48:61]"
   ]
  },
  {
   "cell_type": "code",
   "execution_count": null,
   "metadata": {},
   "outputs": [],
   "source": [
    "#Defining our model and fitting on the training data\n",
    "model=SARIMAX(train,order=(0,1,3),seasonal_order=(0,1,1,12))\n",
    "results=model.fit()\n",
    "results.summary()"
   ]
  },
  {
   "cell_type": "code",
   "execution_count": null,
   "metadata": {},
   "outputs": [],
   "source": [
    "#Predicting on our train and test dataset\n",
    "train_predictions = results.predict(start=1, end=48, typ='levels').rename('Predictions')\n",
    "test_predictions = results.predict(start=48, end=60, typ='levels').rename('Predictions')"
   ]
  },
  {
   "cell_type": "code",
   "execution_count": null,
   "metadata": {},
   "outputs": [],
   "source": [
    "#Plotting the train predictions to see the fit of the model\n",
    "train_predictions.plot(legend=True)\n",
    "train.plot(legend=True)"
   ]
  },
  {
   "cell_type": "code",
   "execution_count": null,
   "metadata": {},
   "outputs": [],
   "source": [
    "#Calculating the RMSE value on the training dataset \n",
    "RMSE=np.sqrt(mean_squared_error(train_predictions,train))\n",
    "print('RMSE = ',RMSE)\n",
    "print('Mean AQI',train.mean())"
   ]
  },
  {
   "cell_type": "code",
   "execution_count": null,
   "metadata": {},
   "outputs": [],
   "source": [
    "#Plotting the test predictions to see how well our model generalized\n",
    "test_predictions.plot(legend=True)\n",
    "test.plot(legend=True)"
   ]
  },
  {
   "cell_type": "code",
   "execution_count": null,
   "metadata": {},
   "outputs": [],
   "source": [
    "#Calculating the RMSE value on the testing dataset \n",
    "RMSE=np.sqrt(mean_squared_error(test_predictions,test))\n",
    "print('RMSE = ',RMSE)\n",
    "print('Mean AQI',test.mean())"
   ]
  },
  {
   "cell_type": "code",
   "execution_count": null,
   "metadata": {},
   "outputs": [],
   "source": [
    "#Obtaining predicted values:\n",
    "future_predictions = results.predict(start=67, end=77, typ='levels').rename('Predictions')\n",
    "\n",
    "#Plotting predicted values against the true values:\n",
    "future_predictions.plot(legend=True)\n",
    "delhi_AQI.plot(legend=True,figsize=(12,8),grid=True)"
   ]
  },
  {
   "cell_type": "markdown",
   "metadata": {},
   "source": [
    "### GRID search framework for fine tuning the model"
   ]
  },
  {
   "cell_type": "code",
   "execution_count": null,
   "metadata": {},
   "outputs": [],
   "source": [
    "def grid_search(p,d,q,P,D,Q,m,train,test):\n",
    "    \n",
    "    column_names = ['p','d','q','P','D','Q','m','RMSE_train','RMSE_test']\n",
    "    df = pd.DataFrame(columns = column_names)\n",
    "\n",
    "    for p1 in p:\n",
    "        for p2 in d:\n",
    "            for p3 in q:\n",
    "                for p4 in P:\n",
    "                    for p5 in D:\n",
    "                        for p6 in Q:\n",
    "                            for p7 in m:\n",
    "                                \n",
    "                                \n",
    "                                model=SARIMAX(train,order=(p1,p2,p3),seasonal_order=(p4,p5,p6,p7))\n",
    "                                try:\n",
    "                                    results=model.fit()\n",
    "                                except:\n",
    "                                    print(\"Passing on : \" + str(p1) + \" \" + str(p2) + \" \" + str(p3) + \" \" + str(p4) + \" \" + str(p5) + \" \" + str(p6) + \" \" + str(p7))\n",
    "                                    pass\n",
    "                                print(\"Fitting on : \" + str(p1) + \" \" + str(p2) + \" \" + str(p3) + \" \" + str(p4) + \" \" + str(p5) + \" \" + str(p6) + \" \" + str(p7))\n",
    "                                #results.summary()\n",
    "                                #Predicting on our train and test dataset\n",
    "                                train_predictions = results.predict(start=1, end=48, typ='levels').rename('Predictions')\n",
    "                                test_predictions = results.predict(start=48, end=60, typ='levels').rename('Predictions')\n",
    "                                \n",
    "                                #Calculating the RMSE value on the training dataset \n",
    "                                RMSE_train = np.sqrt(mean_squared_error(train_predictions,train))\n",
    "                                #Calculating the RMSE value on the testing dataset \n",
    "                                RMSE_test=np.sqrt(mean_squared_error(test_predictions,test))\n",
    "                                \n",
    "                                #Fill our dataframe\n",
    "                                df = df.append({'p':p1, 'd':p2,'q':p3,\n",
    "                                                'P':p4,'D':p5,'Q':p6,'m':p7,\n",
    "                                                'RMSE_train' : RMSE_train, 'RMSE_test' : RMSE_test},\n",
    "                                               ignore_index = True)\n",
    "                                print(df.tail(1))\n",
    "                                \n",
    "                                \n",
    "                                \n",
    "    return df"
   ]
  },
  {
   "cell_type": "code",
   "execution_count": null,
   "metadata": {},
   "outputs": [],
   "source": [
    "train=delhi_AQI[:48]\n",
    "test=delhi_AQI[48:61]\n",
    "\n",
    "delhi_AQI.dropna(inplace=True)\n",
    "\n",
    "p = [1,2,3,0]\n",
    "d = [1,2,3,0]\n",
    "q = [1,2,3,0]\n",
    "P = [1,2,3,0]\n",
    "D = [1,2,3,0]\n",
    "Q = [1,2,3,0]\n",
    "m = [12]\n",
    "\n",
    "warnings.filterwarnings(\"ignore\")\n",
    "\n",
    "table = grid_search(p, d, q, P, D, Q, m, train, test)\n",
    "\n",
    "print(table)  \n"
   ]
  },
  {
   "cell_type": "code",
   "execution_count": null,
   "metadata": {},
   "outputs": [],
   "source": [
    "table"
   ]
  },
  {
   "cell_type": "code",
   "execution_count": null,
   "metadata": {},
   "outputs": [],
   "source": [
    "table.to_csv(\"grid-search-results.csv\")"
   ]
  },
  {
   "cell_type": "code",
   "execution_count": null,
   "metadata": {},
   "outputs": [],
   "source": []
  }
 ],
 "metadata": {
  "kernelspec": {
   "display_name": "Python 3",
   "language": "python",
   "name": "python3"
  },
  "language_info": {
   "codemirror_mode": {
    "name": "ipython",
    "version": 3
   },
   "file_extension": ".py",
   "mimetype": "text/x-python",
   "name": "python",
   "nbconvert_exporter": "python",
   "pygments_lexer": "ipython3",
   "version": "3.10.6"
  },
  "vscode": {
   "interpreter": {
    "hash": "f263b9edec441361bf4e854813fdc9acb37a94c837e0bb7b1f3c4b82a94101de"
   }
  }
 },
 "nbformat": 4,
 "nbformat_minor": 4
}
