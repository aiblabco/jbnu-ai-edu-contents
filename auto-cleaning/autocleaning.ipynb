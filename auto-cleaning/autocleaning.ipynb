{
 "cells": [
  {
   "cell_type": "code",
   "execution_count": null,
   "id": "b28258c9-01af-4013-ae7c-0203e392663a",
   "metadata": {},
   "outputs": [],
   "source": [
    "import pandas as pd"
   ]
  },
  {
   "cell_type": "code",
   "execution_count": null,
   "id": "0a08d7a0-0aa1-451f-8ed5-67393c2278c5",
   "metadata": {},
   "outputs": [],
   "source": [
    "dataset = pd.read_csv('/mnt/share/datasets/auto-cleaning/sample-data.csv',delimiter=',')\n",
    "dataset.info()"
   ]
  },
  {
   "cell_type": "code",
   "execution_count": null,
   "id": "7dbaa507-f95e-4568-91b9-947ca778b65e",
   "metadata": {},
   "outputs": [],
   "source": [
    "from AutoClean import AutoClean\n",
    "pipeline = AutoClean(dataset)\n",
    "pipeline.output"
   ]
  }
 ],
 "metadata": {
  "kernelspec": {
   "display_name": "Python 3 (ipykernel)",
   "language": "python",
   "name": "python3"
  },
  "language_info": {
   "codemirror_mode": {
    "name": "ipython",
    "version": 3
   },
   "file_extension": ".py",
   "mimetype": "text/x-python",
   "name": "python",
   "nbconvert_exporter": "python",
   "pygments_lexer": "ipython3",
   "version": "3.9.13"
  }
 },
 "nbformat": 4,
 "nbformat_minor": 5
}
