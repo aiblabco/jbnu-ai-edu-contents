{
 "cells": [
  {
   "cell_type": "code",
   "execution_count": 14,
   "id": "7ea6165b-e8c3-4038-aa7f-7097b7d7a0b8",
   "metadata": {},
   "outputs": [
    {
     "name": "stdout",
     "output_type": "stream",
     "text": [
      "Loading model into memory...\n",
      "Loading label map...\n",
      "Found 15 images to annotate.\n"
     ]
    },
    {
     "name": "stderr",
     "output_type": "stream",
     "text": [
      "100%|\u001b[32m██████████\u001b[0m| 15/15 [00:04<00:00,  3.36it/s]\n"
     ]
    }
   ],
   "source": [
    "import os\n",
    "from auto_annotate import AutoAnnotate\n",
    "\n",
    "os.makedirs(\"results\", exist_ok=True)\n",
    "\n",
    "ann_tool = AutoAnnotate(\n",
    "    saved_model_path = '/mnt/share/datasets/auto-annotate/data',\n",
    "    label_map_path = '/mnt/share/datasets/auto-annotate/labels/label_map.pbtxt',\n",
    "    images_path = '/mnt/share/datasets/auto-annotate/images',\n",
    "    xml_path = 'results',\n",
    "    detection_threshold = 0.5)\n",
    "\n",
    "ann_tool.generate_annotations()"
   ]
  },
  {
   "cell_type": "code",
   "execution_count": null,
   "id": "fb2789fa-2af3-41ec-a7bc-2b0e6ce40ad2",
   "metadata": {},
   "outputs": [],
   "source": []
  }
 ],
 "metadata": {
  "kernelspec": {
   "display_name": "Python 3 (ipykernel)",
   "language": "python",
   "name": "python3"
  },
  "language_info": {
   "codemirror_mode": {
    "name": "ipython",
    "version": 3
   },
   "file_extension": ".py",
   "mimetype": "text/x-python",
   "name": "python",
   "nbconvert_exporter": "python",
   "pygments_lexer": "ipython3",
   "version": "3.9.13"
  }
 },
 "nbformat": 4,
 "nbformat_minor": 5
}
